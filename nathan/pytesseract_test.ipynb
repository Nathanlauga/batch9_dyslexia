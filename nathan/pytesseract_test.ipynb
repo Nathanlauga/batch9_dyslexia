{
 "cells": [
  {
   "cell_type": "markdown",
   "id": "czech-motivation",
   "metadata": {},
   "source": [
    "# Test the `pytesseract` package\n",
    "\n",
    "---\n",
    "\n",
    "To install tesseract on Ubuntu I used : https://www.datacorner.fr/tesseract/\n",
    "\n",
    "## Import package"
   ]
  },
  {
   "cell_type": "code",
   "execution_count": 3,
   "id": "integrated-oliver",
   "metadata": {},
   "outputs": [],
   "source": [
    "try:\n",
    "    from PIL import Image\n",
    "except ImportError:\n",
    "    import Image\n",
    "    \n",
    "import pytesseract\n",
    "from scipy import ndimage\n",
    "\n",
    "from os import listdir\n",
    "from os.path import isfile, join, isdir\n",
    "import os.path\n",
    "\n",
    "import matplotlib.pyplot as plt\n",
    "import matplotlib.image as mpimg"
   ]
  },
  {
   "cell_type": "code",
   "execution_count": 7,
   "id": "satisfied-funds",
   "metadata": {},
   "outputs": [
    {
     "name": "stdout",
     "output_type": "stream",
     "text": [
      "env: TESSDATA_PREFIX=/usr/share/tesseract-ocr/4.00/tessdata/\n"
     ]
    }
   ],
   "source": [
    "%env TESSDATA_PREFIX /usr/share/tesseract-ocr/4.00/tessdata/"
   ]
  },
  {
   "cell_type": "markdown",
   "id": "ordinary-market",
   "metadata": {},
   "source": [
    "## List examples files"
   ]
  },
  {
   "cell_type": "code",
   "execution_count": 8,
   "id": "wrapped-comedy",
   "metadata": {},
   "outputs": [
    {
     "data": {
      "text/plain": [
       "['../Exemples/Ex_Maths/IMG_20210329_123828.jpg',\n",
       " '../Exemples/Ex_Maths/IMG_20210329_122221.jpg',\n",
       " '../Exemples/Ex_Maths/IMG_20210329_123818.jpg',\n",
       " '../Exemples/Ex_Maths/IMG_20210329_122227.jpg',\n",
       " '../Exemples/Ex_Maths/IMG_20210329_122202.jpg',\n",
       " '../Exemples/Ex_Maths/IMG_20210329_122715.jpg',\n",
       " '../Exemples/Ex_Maths/IMG_20210329_122724.jpg',\n",
       " '../Exemples/Ex_Maths/IMG_20210329_123813.jpg',\n",
       " '../Exemples/Ex_Maths/IMG_20210329_122157.jpg',\n",
       " '../Exemples/Ex_Maths/IMG_20210329_122738.jpg',\n",
       " '../Exemples/Histoire_Geo/IMG_20210329_122543.jpg',\n",
       " '../Exemples/Histoire_Geo/IMG_20210329_123005.jpg',\n",
       " '../Exemples/Histoire_Geo/IMG_20210329_122940.jpg',\n",
       " '../Exemples/Histoire_Geo/IMG_20210329_123000.jpg',\n",
       " '../Exemples/Histoire_Geo/IMG_20210329_122932.jpg',\n",
       " '../Exemples/Histoire_Geo/IMG_20210329_122524.jpg',\n",
       " '../Exemples/Histoire_Geo/IMG_20210329_122536.jpg',\n",
       " '../Exemples/Dictee/IMG_20210329_122324.jpg',\n",
       " '../Exemples/Dictee/IMG_20210329_122825.jpg',\n",
       " '../Exemples/Dictee/IMG_20210329_122839.jpg',\n",
       " '../Exemples/Dictee/IMG_20210329_122828.jpg',\n",
       " '../Exemples/SVT/IMG_20210329_123138.jpg',\n",
       " '../Exemples/SVT/IMG_20210329_122617.jpg',\n",
       " '../Exemples/SVT/IMG_20210329_122614.jpg',\n",
       " '../Exemples/SVT/IMG_20210329_123021.jpg',\n",
       " '../Exemples/SVT/IMG_20210329_122633.jpg',\n",
       " '../Exemples/SVT/IMG_20210329_122621.jpg',\n",
       " '../Exemples/SVT/IMG_20210329_122629.jpg',\n",
       " '../Exemples/SVT/IMG_20210329_123025.jpg',\n",
       " '../Exemples/SVT/IMG_20210329_123017.jpg',\n",
       " '../Exemples/SVT/IMG_20210329_123029.jpg',\n",
       " '../Exemples/SVT/IMG_20210329_123132.jpg',\n",
       " '../Exemples/Ex_COD/IMG_20210329_122814.jpg',\n",
       " '../Exemples/Ex_COD/IMG_20210329_122809.jpg',\n",
       " '../Exemples/Ex_COD/IMG_20210329_122251.jpg',\n",
       " '../Exemples/Ex_COD/IMG_20210329_123624.jpg',\n",
       " '../Exemples/Ex_COD/IMG_20210329_122300.jpg',\n",
       " '../Exemples/Ex_COD/IMG_20210329_123633.jpg',\n",
       " '../Exemples/Ex_COD/IMG_20210329_122755.jpg',\n",
       " '../Exemples/Ex_COD/IMG_20210329_122306.jpg',\n",
       " '../Exemples/Present_indicatif/IMG_20210329_122401.jpg',\n",
       " '../Exemples/Present_indicatif/IMG_20210329_122910.jpg',\n",
       " '../Exemples/Present_indicatif/IMG_20210329_122337.jpg',\n",
       " '../Exemples/Present_indicatif/IMG_20210329_122915.jpg',\n",
       " '../Exemples/Present_indicatif/IMG_20210329_122904.jpg',\n",
       " '../Exemples/Present_indicatif/IMG_20210329_122857.jpg',\n",
       " '../Exemples/Present_indicatif/IMG_20210329_122406.jpg',\n",
       " '../Exemples/Present_indicatif/IMG_20210329_122343.jpg']"
      ]
     },
     "execution_count": 8,
     "metadata": {},
     "output_type": "execute_result"
    }
   ],
   "source": [
    "# Get all directories with examples\n",
    "example_path = '../Exemples/'\n",
    "subdir_paths = [\n",
    "    join(example_path, p) \n",
    "    for p in listdir(example_path) \n",
    "    if isdir(join(example_path, p))\n",
    "]\n",
    "\n",
    "# Retrieves all files in example dir\n",
    "files = []\n",
    "for p in [example_path] + subdir_paths:\n",
    "    _files = [join(p, f) for f in listdir(p) if isfile(join(p, f))]\n",
    "    \n",
    "    files = files + _files\n",
    "    \n",
    "\n",
    "# Keeps only jpg extension files\n",
    "files = [f for f in files if f[-3:] in ['jpg']]\n",
    "\n",
    "\n",
    "files"
   ]
  },
  {
   "cell_type": "markdown",
   "id": "short-peripheral",
   "metadata": {},
   "source": [
    "## Try pytesseract usage\n",
    "\n",
    "More details on the Pypi page : https://pypi.org/project/pytesseract/"
   ]
  },
  {
   "cell_type": "code",
   "execution_count": 14,
   "id": "flying-manual",
   "metadata": {},
   "outputs": [],
   "source": [
    "def extract_text_from_image(fpath, rotate=None):\n",
    "    img = Image.open(fpath)\n",
    "    \n",
    "    if rotate is not None:\n",
    "        img = ndimage.rotate(img, rotate)\n",
    "    \n",
    "    res = pytesseract.image_to_string(img, lang='fra')\n",
    "    \n",
    "    return res\n",
    "\n",
    "def show_image(fpath, rotate=None):\n",
    "    fig, ax = plt.subplots(figsize=(10,10))\n",
    "    \n",
    "    img = mpimg.imread(fpath)\n",
    "    \n",
    "    if rotate is not None: \n",
    "        img = ndimage.rotate(img, rotate)\n",
    "    \n",
    "    imgplot = plt.imshow(img)\n",
    "    \n",
    "    plt.show()"
   ]
  },
  {
   "cell_type": "code",
   "execution_count": 20,
   "id": "critical-colorado",
   "metadata": {},
   "outputs": [
    {
     "data": {
      "text/plain": [
       "'../Exemples/SVT/IMG_20210329_122617.jpg'"
      ]
     },
     "execution_count": 20,
     "metadata": {},
     "output_type": "execute_result"
    }
   ],
   "source": [
    "f = files[22]\n",
    "f"
   ]
  },
  {
   "cell_type": "markdown",
   "id": "sacred-block",
   "metadata": {},
   "source": [
    "![](../Exemples/SVT/IMG_20210329_122617.jpg)"
   ]
  },
  {
   "cell_type": "code",
   "execution_count": 24,
   "id": "consecutive-brazilian",
   "metadata": {},
   "outputs": [],
   "source": [
    "txt = extract_text_from_image(f, rotate=270)"
   ]
  },
  {
   "cell_type": "code",
   "execution_count": 25,
   "id": "fleet-kinase",
   "metadata": {},
   "outputs": [
    {
     "name": "stdout",
     "output_type": "stream",
     "text": [
      "  \n",
      "\n",
      "La plante est composée:\n",
      "d’une partie souterraine qui s’é\n",
      "d’une partie en surface (tige,\n",
      "\n",
      "2\n",
      "\n",
      "Les plantes\n",
      "\n",
      "De quoi est composée la plante?\n",
      "\n",
      "tend (parfois très loin de l'endroit\n",
      "feuilles,graines.ﬁuîts,ﬂeuœ)\n",
      "\n",
      "De quoi a besoin la plante?\n",
      "\n",
      "2.1.\n",
      "\n",
      "A\n",
      "\n",
      "2.3.\n",
      "\n",
      "   \n",
      " \n",
      "    \n",
      "    \n",
      "   \n",
      "  \n",
      "  \n",
      "  \n",
      "  \n",
      "  \n",
      "   \n",
      "\n",
      "où se trouve la plante en surface),\n",
      "\n",
      "Le soleil permet à la plante de récupérer de l’'énergie pour se développer.\n",
      "Sans soleil, elle ne peut pas récolter de l’énergie pour survivre.\n",
      "\n",
      "Tout comme le soleil, l'oxygène est essentiel pour la survie de la plante.\n",
      "\n",
      "L’eau apporte des nutriments (qui sont essentiels à la plante pour\n",
      "rester en bon état).\n",
      "\n",
      "La partie souterraine de la plante peut prendre beaucoup de\n",
      "place. Si les racines ne peuvent pas aller où elles veulent, la\n",
      "croissance de la plante peut être empêchée.\n",
      "\f",
      "\n"
     ]
    }
   ],
   "source": [
    "print(txt)"
   ]
  },
  {
   "cell_type": "code",
   "execution_count": 13,
   "id": "pacific-pipeline",
   "metadata": {},
   "outputs": [
    {
     "data": {
      "text/plain": [
       "'‘egyceduwe a1je jnad ajue|d ej ap souessiO1\\ne| JU@|N@A saJjO NO Jojje sed juoanad au seulde1 sa| 1S ‘eoe|d\\n\\nep dnooneaq a1puad ]ned ajue|d e| op auieuajnos elued e\\nsIe|d\\n\\n‘(J819 UOq US Ja)se1\\n1nod S]ue]d EJ & sjonuesse Juos Inb) sjuewuynu sep ayuodde nea,1\\n\\nne3\\n\\n‘aJue|d e| ap avuns e; inod jonuasse ]sa eua6AX0,| ‘JlaJ0S a] aWWOI 3noL\\nou26AXO\\n\\n‘@JAWUNs 1nod aibieua | op 1210981 sed ]ned au ajje ‘Jlajos sues\\n1eddojengp as 1nod aib:9u3,1 ap 1919dn981 ap ajue|d e| e jouuad |l9j0s 97\\n\\nlajos LZ\\nje]ue|d e| uIOsaq e 1onb ea =\\n\\nî:æ=.æ.Ê.……æ:…œäâm..äê ‘361) ooeyuns ue ar\\n\\n| I } Medaunp -\\n\\n(e0eyns ue ajue|d e; @An01} 9S NO JIO1pUA,| 8P UIO] SU SioJued) puaje,s inb SuIeISINOs aiLEd aun b>\\n‘@9sodw09 }se ajue|d e]\\n\\n4S]UB|d E| 99s0dw09 }ssionbeg -;\\n\\nsojuejd se\\n\\n \\n\\x0c'"
      ]
     },
     "execution_count": 13,
     "metadata": {},
     "output_type": "execute_result"
    }
   ],
   "source": []
  },
  {
   "cell_type": "code",
   "execution_count": null,
   "id": "flush-consumer",
   "metadata": {},
   "outputs": [],
   "source": []
  }
 ],
 "metadata": {
  "kernelspec": {
   "display_name": "dyslexia",
   "language": "python",
   "name": "dyslexia"
  },
  "language_info": {
   "codemirror_mode": {
    "name": "ipython",
    "version": 3
   },
   "file_extension": ".py",
   "mimetype": "text/x-python",
   "name": "python",
   "nbconvert_exporter": "python",
   "pygments_lexer": "ipython3",
   "version": "3.8.5"
  }
 },
 "nbformat": 4,
 "nbformat_minor": 5
}
